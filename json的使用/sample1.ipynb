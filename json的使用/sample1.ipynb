{
 "cells": [
  {
   "cell_type": "code",
   "execution_count": 1,
   "metadata": {},
   "outputs": [
    {
     "data": {
      "text/plain": [
       "True"
      ]
     },
     "execution_count": 1,
     "metadata": {},
     "output_type": "execute_result"
    }
   ],
   "source": [
    "import redis\n",
    "import os\n",
    "\n",
    "#從外部連線至render的redis,必需使用ssl(TLS)的連線設定\n",
    "user_connection = redis.Redis(host='singapore-redis.render.com',port=6379,username='red-ciqvjfdph6ev5r95cs30',password='8jyDNXWDKg8B5ZESEqXeLtm5vReGYIdU',ssl=True,ssl_cert_reqs=\"none\")\n",
    "\n",
    "user_connection.ping()"
   ]
  },
  {
   "cell_type": "code",
   "execution_count": 3,
   "metadata": {},
   "outputs": [
    {
     "data": {
      "text/plain": [
       "b'foo'"
      ]
     },
     "execution_count": 3,
     "metadata": {},
     "output_type": "execute_result"
    }
   ],
   "source": [
    "user_connection.hset('myhash','field1',\"foo\")\n",
    "hash_value = user_connection.hget('myhash','field1')\n",
    "hash_value"
   ]
  }
 ],
 "metadata": {
  "kernelspec": {
   "display_name": "Python 3",
   "language": "python",
   "name": "python3"
  },
  "language_info": {
   "codemirror_mode": {
    "name": "ipython",
    "version": 3
   },
   "file_extension": ".py",
   "mimetype": "text/x-python",
   "name": "python",
   "nbconvert_exporter": "python",
   "pygments_lexer": "ipython3",
   "version": "3.10.12"
  },
  "orig_nbformat": 4
 },
 "nbformat": 4,
 "nbformat_minor": 2
}
