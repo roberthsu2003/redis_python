{
 "cells": [
  {
   "cell_type": "code",
   "execution_count": 2,
   "metadata": {},
   "outputs": [
    {
     "data": {
      "text/plain": [
       "True"
      ]
     },
     "execution_count": 2,
     "metadata": {},
     "output_type": "execute_result"
    }
   ],
   "source": [
    "username  =  'roberthsu2003'\n",
    "password = '2PCWc7dUavj67r!'\n",
    "\n",
    "import redis\n",
    "\n",
    "#使用redis cloud free account\n",
    "user_connection = redis.Redis(\n",
    "  host='redis-10312.c299.asia-northeast1-1.gce.cloud.redislabs.com',\n",
    "  port=10312,\n",
    "  username=username,\n",
    "  password = password)\n",
    "user_connection.ping()"
   ]
  },
  {
   "cell_type": "code",
   "execution_count": 3,
   "metadata": {},
   "outputs": [
    {
     "name": "stdout",
     "output_type": "stream",
     "text": [
      "{'name': 'Jane', 'Age': 33, 'Location': 'Chawton'}\n"
     ]
    }
   ],
   "source": [
    "from redis.commands.json.path import Path\n",
    "\n",
    "jane = {\n",
    "     'name': \"Jane\",\n",
    "     'Age': 33,\n",
    "     'Location': \"Chawton\"\n",
    "}\n",
    "\n",
    "user_connection.json().set('person:1', '$', jane)\n",
    "result = user_connection.json().get('person:1')\n",
    "\n",
    "print(result)"
   ]
  }
 ],
 "metadata": {
  "kernelspec": {
   "display_name": "Python 3",
   "language": "python",
   "name": "python3"
  },
  "language_info": {
   "codemirror_mode": {
    "name": "ipython",
    "version": 3
   },
   "file_extension": ".py",
   "mimetype": "text/x-python",
   "name": "python",
   "nbconvert_exporter": "python",
   "pygments_lexer": "ipython3",
   "version": "3.10.12"
  },
  "orig_nbformat": 4
 },
 "nbformat": 4,
 "nbformat_minor": 2
}
