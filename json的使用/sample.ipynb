{
 "cells": [
  {
   "cell_type": "code",
   "execution_count": 1,
   "metadata": {},
   "outputs": [
    {
     "data": {
      "text/plain": [
       "True"
      ]
     },
     "execution_count": 1,
     "metadata": {},
     "output_type": "execute_result"
    }
   ],
   "source": [
    "#連結本機redis\n",
    "import redis\n",
    "import os\n",
    "\n",
    "user_connection = redis.Redis(host='localhost', port=6379, password=os.environ['REDIS_HOST_PASSWORD'], decode_responses=True)\n",
    "\n",
    "user_connection.ping()"
   ]
  },
  {
   "cell_type": "code",
   "execution_count": 3,
   "metadata": {},
   "outputs": [
    {
     "name": "stdout",
     "output_type": "stream",
     "text": [
      "{'name': 'Jane', 'Age': 33, 'Location': 'Chawton'}\n"
     ]
    }
   ],
   "source": [
    "from redis.commands.json.path import Path\n",
    "\n",
    "jane = {\n",
    "     'name': \"Jane\",\n",
    "     'Age': 33,\n",
    "     'Location': \"Chawton\"\n",
    "}\n",
    "\n",
    "user_connection.json().set('person:1', '$', jane)\n",
    "result = user_connection.json().get('person:1')\n",
    "\n",
    "print(result)\n"
   ]
  },
  {
   "cell_type": "code",
   "execution_count": 7,
   "metadata": {},
   "outputs": [
    {
     "name": "stdout",
     "output_type": "stream",
     "text": [
      "['Jane']\n"
     ]
    }
   ],
   "source": [
    "name = user_connection.json().get('person:1', '$.name')\n",
    "print(name)"
   ]
  },
  {
   "cell_type": "code",
   "execution_count": 6,
   "metadata": {},
   "outputs": [
    {
     "name": "stdout",
     "output_type": "stream",
     "text": [
      "['Jane']\n"
     ]
    }
   ],
   "source": [
    "name = user_connection.json().get('person:1', Path('$.name'))\n",
    "print(name)"
   ]
  },
  {
   "cell_type": "code",
   "execution_count": 7,
   "metadata": {},
   "outputs": [],
   "source": [
    "inventory = {\n",
    "   \"inventory\": {\n",
    "      \"headphones\": [\n",
    "         {\n",
    "            \"id\": 12345,\n",
    "            \"name\": \"Noise-cancelling Bluetooth headphones\",\n",
    "            \"description\": \"Wireless Bluetooth headphones with noise-cancelling technology\",\n",
    "            \"wireless\": True,\n",
    "            \"connection\": \"Bluetooth\",\n",
    "            \"price\": 99.98,\n",
    "            \"stock\": 25,\n",
    "            \"free-shipping\": False,\n",
    "            \"colors\": [\"black\", \"silver\"]\n",
    "         },\n",
    "         {\n",
    "            \"id\": 12346,\n",
    "            \"name\": \"Wireless earbuds\",\n",
    "            \"description\": \"Wireless Bluetooth in-ear headphones\",\n",
    "            \"wireless\": True,\n",
    "            \"connection\": \"Bluetooth\",\n",
    "            \"price\": 64.99,\n",
    "            \"stock\": 17,\n",
    "            \"free-shipping\": False,\n",
    "            \"colors\": [\"black\", \"white\"]\n",
    "         },\n",
    "         {\n",
    "            \"id\": 12347,\n",
    "            \"name\": \"Mic headset\",\n",
    "            \"description\": \"Headset with built-in microphone\",\n",
    "            \"wireless\": False,\n",
    "            \"connection\": \"USB\",\n",
    "            \"price\": 35.01,\n",
    "            \"stock\": 28,\n",
    "            \"free-shipping\": False\n",
    "         }\n",
    "      ],\n",
    "      \"keyboards\": [\n",
    "         {\n",
    "            \"id\": 22345,\n",
    "            \"name\": \"Wireless keyboard\",\n",
    "            \"description\": \"Wireless Bluetooth keyboard\",\n",
    "            \"wireless\": True,\n",
    "            \"connection\": \"Bluetooth\",\n",
    "            \"price\": 44.99,\n",
    "            \"stock\": 23,\n",
    "            \"free-shipping\": False,\n",
    "            \"colors\": [\"black\", \"silver\"]\n",
    "         },\n",
    "         {\n",
    "            \"id\": 22346,\n",
    "            \"name\": \"USB-C keyboard\",\n",
    "            \"description\": \"Wired USB-C keyboard\",\n",
    "            \"wireless\": False,\n",
    "            \"connection\": \"USB-C\",\n",
    "            \"price\": 29.99,\n",
    "            \"stock\": 30,\n",
    "            \"free-shipping\": False\n",
    "         }\n",
    "      ]\n",
    "   }\n",
    "}\n"
   ]
  },
  {
   "cell_type": "code",
   "execution_count": 8,
   "metadata": {},
   "outputs": [
    {
     "data": {
      "text/plain": [
       "True"
      ]
     },
     "execution_count": 8,
     "metadata": {},
     "output_type": "execute_result"
    }
   ],
   "source": [
    "#設定所有資料\n",
    "user_connection.json().set('inventory:1',\"$\",inventory)"
   ]
  },
  {
   "cell_type": "code",
   "execution_count": 11,
   "metadata": {},
   "outputs": [
    {
     "name": "stdout",
     "output_type": "stream",
     "text": [
      "<class 'dict'>\n",
      "{'headphones': [{'id': 12345, 'name': 'Noise-cancelling Bluetooth headphones', 'description': 'Wireless Bluetooth headphones with noise-cancelling technology', 'wireless': True, 'connection': 'Bluetooth', 'price': 78.99, 'stock': 25, 'free-shipping': False, 'colors': ['black', 'silver']}, {'id': 12346, 'name': 'Wireless earbuds', 'description': 'Wireless Bluetooth in-ear headphones', 'wireless': True, 'connection': 'Bluetooth', 'price': 64.99, 'stock': 17, 'free-shipping': False, 'colors': ['black', 'white']}, {'id': 12347, 'name': 'Mic headset', 'description': 'Headset with built-in microphone', 'wireless': False, 'connection': 'USB', 'price': 35.01, 'stock': 28, 'free-shipping': False}], 'keyboards': [{'id': 22345, 'name': 'Wireless keyboard', 'description': 'Wireless Bluetooth keyboard', 'wireless': True, 'connection': 'Bluetooth', 'price': 44.99, 'stock': 23, 'free-shipping': False, 'colors': ['black', 'silver']}, {'id': 22346, 'name': 'USB-C keyboard', 'description': 'Wired USB-C keyboard', 'wireless': False, 'connection': 'USB-C', 'price': 29.99, 'stock': 30, 'free-shipping': False}]}\n"
     ]
    }
   ],
   "source": [
    "#使用legancy path語法,會取出inventory下所有節點資料\n",
    "data = user_connection.json().get('inventory:1','.inventory')\n",
    "print(type(data))\n",
    "print(data)"
   ]
  },
  {
   "cell_type": "code",
   "execution_count": 12,
   "metadata": {},
   "outputs": [
    {
     "name": "stdout",
     "output_type": "stream",
     "text": [
      "<class 'list'>\n",
      "[{'headphones': [{'id': 12345, 'name': 'Noise-cancelling Bluetooth headphones', 'description': 'Wireless Bluetooth headphones with noise-cancelling technology', 'wireless': True, 'connection': 'Bluetooth', 'price': 78.99, 'stock': 25, 'free-shipping': False, 'colors': ['black', 'silver']}, {'id': 12346, 'name': 'Wireless earbuds', 'description': 'Wireless Bluetooth in-ear headphones', 'wireless': True, 'connection': 'Bluetooth', 'price': 64.99, 'stock': 17, 'free-shipping': False, 'colors': ['black', 'white']}, {'id': 12347, 'name': 'Mic headset', 'description': 'Headset with built-in microphone', 'wireless': False, 'connection': 'USB', 'price': 35.01, 'stock': 28, 'free-shipping': False}], 'keyboards': [{'id': 22345, 'name': 'Wireless keyboard', 'description': 'Wireless Bluetooth keyboard', 'wireless': True, 'connection': 'Bluetooth', 'price': 44.99, 'stock': 23, 'free-shipping': False, 'colors': ['black', 'silver']}, {'id': 22346, 'name': 'USB-C keyboard', 'description': 'Wired USB-C keyboard', 'wireless': False, 'connection': 'USB-C', 'price': 29.99, 'stock': 30, 'free-shipping': False}]}]\n"
     ]
    }
   ],
   "source": [
    "#使用新的json path語法,會取出inventory下所有節點資料,並由list包裝\n",
    "data = user_connection.json().get('inventory:1','$.inventory')\n",
    "print(type(data))\n",
    "print(data)"
   ]
  },
  {
   "cell_type": "code",
   "execution_count": 13,
   "metadata": {},
   "outputs": [
    {
     "name": "stdout",
     "output_type": "stream",
     "text": [
      "<class 'list'>\n",
      "[[{'id': 12345, 'name': 'Noise-cancelling Bluetooth headphones', 'description': 'Wireless Bluetooth headphones with noise-cancelling technology', 'wireless': True, 'connection': 'Bluetooth', 'price': 78.99, 'stock': 25, 'free-shipping': False, 'colors': ['black', 'silver']}, {'id': 12346, 'name': 'Wireless earbuds', 'description': 'Wireless Bluetooth in-ear headphones', 'wireless': True, 'connection': 'Bluetooth', 'price': 64.99, 'stock': 17, 'free-shipping': False, 'colors': ['black', 'white']}, {'id': 12347, 'name': 'Mic headset', 'description': 'Headset with built-in microphone', 'wireless': False, 'connection': 'USB', 'price': 35.01, 'stock': 28, 'free-shipping': False}], [{'id': 22345, 'name': 'Wireless keyboard', 'description': 'Wireless Bluetooth keyboard', 'wireless': True, 'connection': 'Bluetooth', 'price': 44.99, 'stock': 23, 'free-shipping': False, 'colors': ['black', 'silver']}, {'id': 22346, 'name': 'USB-C keyboard', 'description': 'Wired USB-C keyboard', 'wireless': False, 'connection': 'USB-C', 'price': 29.99, 'stock': 30, 'free-shipping': False}]]\n"
     ]
    }
   ],
   "source": [
    "#使用*,如果是dict不會取出key,而是取出value, 並且由list包裝\n",
    "#如果是dict,並想要取出key,不可以使用*\n",
    "data = user_connection.json().get('inventory:1','$.inventory.*')\n",
    "print(type(data))\n",
    "print(data)"
   ]
  },
  {
   "cell_type": "code",
   "execution_count": 14,
   "metadata": {},
   "outputs": [
    {
     "data": {
      "text/plain": [
       "[{'id': 12345,\n",
       "  'name': 'Noise-cancelling Bluetooth headphones',\n",
       "  'description': 'Wireless Bluetooth headphones with noise-cancelling technology',\n",
       "  'wireless': True,\n",
       "  'connection': 'Bluetooth',\n",
       "  'price': 78.99,\n",
       "  'stock': 25,\n",
       "  'free-shipping': False,\n",
       "  'colors': ['black', 'silver']},\n",
       " {'id': 12346,\n",
       "  'name': 'Wireless earbuds',\n",
       "  'description': 'Wireless Bluetooth in-ear headphones',\n",
       "  'wireless': True,\n",
       "  'connection': 'Bluetooth',\n",
       "  'price': 64.99,\n",
       "  'stock': 17,\n",
       "  'free-shipping': False,\n",
       "  'colors': ['black', 'white']},\n",
       " {'id': 12347,\n",
       "  'name': 'Mic headset',\n",
       "  'description': 'Headset with built-in microphone',\n",
       "  'wireless': False,\n",
       "  'connection': 'USB',\n",
       "  'price': 35.01,\n",
       "  'stock': 28,\n",
       "  'free-shipping': False}]"
      ]
     },
     "execution_count": 14,
     "metadata": {},
     "output_type": "execute_result"
    }
   ],
   "source": [
    "user_connection.json().get('inventory:1','$.inventory.headphones.*')"
   ]
  },
  {
   "cell_type": "code",
   "execution_count": 11,
   "metadata": {},
   "outputs": [
    {
     "data": {
      "text/plain": [
       "['Noise-cancelling Bluetooth headphones', 'Wireless earbuds', 'Mic headset']"
      ]
     },
     "execution_count": 11,
     "metadata": {},
     "output_type": "execute_result"
    }
   ],
   "source": [
    "#以下3個語法取出的值是相同的 \n",
    "user_connection.json().get('inventory:1','$.inventory.headphones[*].name')#使用.運算子取得節點\n",
    "user_connection.json().get('inventory:1','$.inventory[\"headphones\"][*].name') #使用[]取得節點，注意key必需是字串\n",
    "user_connection.json().get('inventory:1','$..headphones[*].name') #使用..是由上而下,一值找到節點headphones為止"
   ]
  },
  {
   "cell_type": "code",
   "execution_count": 15,
   "metadata": {},
   "outputs": [
    {
     "data": {
      "text/plain": [
       "['Noise-cancelling Bluetooth headphones',\n",
       " 'Wireless earbuds',\n",
       " 'Mic headset',\n",
       " 'Wireless keyboard',\n",
       " 'USB-C keyboard']"
      ]
     },
     "execution_count": 15,
     "metadata": {},
     "output_type": "execute_result"
    }
   ],
   "source": [
    "user_connection.json().get('inventory:1','$..name') #取得所有的name"
   ]
  },
  {
   "cell_type": "code",
   "execution_count": 15,
   "metadata": {},
   "outputs": [
    {
     "data": {
      "text/plain": [
       "['Noise-cancelling Bluetooth headphones', 'Wireless earbuds']"
      ]
     },
     "execution_count": 15,
     "metadata": {},
     "output_type": "execute_result"
    }
   ],
   "source": [
    "#list的資料可以使用slice的方法取得前2個元素\n",
    "user_connection.json().get('inventory:1','$..headphones[0:2].name')"
   ]
  },
  {
   "cell_type": "code",
   "execution_count": 17,
   "metadata": {},
   "outputs": [
    {
     "data": {
      "text/plain": [
       "[{'id': 12346,\n",
       "  'name': 'Wireless earbuds',\n",
       "  'description': 'Wireless Bluetooth in-ear headphones',\n",
       "  'wireless': True,\n",
       "  'connection': 'Bluetooth',\n",
       "  'price': 64.99,\n",
       "  'stock': 17,\n",
       "  'free-shipping': False,\n",
       "  'colors': ['black', 'white']}]"
      ]
     },
     "execution_count": 17,
     "metadata": {},
     "output_type": "execute_result"
    }
   ],
   "source": [
    "#list內的元素可以使用搜尋的方式,搜尋可以使用比較運算子和邏輯運子 \n",
    "user_connection.json().get('inventory:1','$..headphones[?(@.price<70 && @.wireless==true)]')"
   ]
  },
  {
   "cell_type": "code",
   "execution_count": 16,
   "metadata": {},
   "outputs": [
    {
     "data": {
      "text/plain": [
       "['Noise-cancelling Bluetooth headphones',\n",
       " 'Wireless earbuds',\n",
       " 'Wireless keyboard']"
      ]
     },
     "execution_count": 16,
     "metadata": {},
     "output_type": "execute_result"
    }
   ],
   "source": [
    "#搜尋的如果是文字，文字必需要雙引號或單引號(視最外部的字串符號而訂)\n",
    "user_connection.json().get('inventory:1','$.inventory.*[?(@.connection==\"Bluetooth\")].name')"
   ]
  },
  {
   "cell_type": "code",
   "execution_count": 17,
   "metadata": {},
   "outputs": [
    {
     "data": {
      "text/plain": [
       "[78.99]"
      ]
     },
     "execution_count": 17,
     "metadata": {},
     "output_type": "execute_result"
    }
   ],
   "source": [
    "#可以使用[0],0為索引編號\n",
    "user_connection.json().get('inventory:1','$..headphones[0].price')"
   ]
  },
  {
   "cell_type": "code",
   "execution_count": 18,
   "metadata": {},
   "outputs": [
    {
     "data": {
      "text/plain": [
       "True"
      ]
     },
     "execution_count": 18,
     "metadata": {},
     "output_type": "execute_result"
    }
   ],
   "source": [
    "#更新內容,必需放在第3個參數\n",
    "user_connection.json().set('inventory:1','$..headphones[0].price',78.99)"
   ]
  },
  {
   "cell_type": "code",
   "execution_count": 19,
   "metadata": {},
   "outputs": [
    {
     "data": {
      "text/plain": [
       "[78.99]"
      ]
     },
     "execution_count": 19,
     "metadata": {},
     "output_type": "execute_result"
    }
   ],
   "source": [
    "user_connection.json().get('inventory:1','$..headphones[0].price')"
   ]
  },
  {
   "cell_type": "code",
   "execution_count": 20,
   "metadata": {},
   "outputs": [
    {
     "data": {
      "text/plain": [
       "True"
      ]
     },
     "execution_count": 20,
     "metadata": {},
     "output_type": "execute_result"
    }
   ],
   "source": [
    "#清除所有資料\n",
    "user_connection.flushdb()"
   ]
  }
 ],
 "metadata": {
  "kernelspec": {
   "display_name": "Python 3",
   "language": "python",
   "name": "python3"
  },
  "language_info": {
   "codemirror_mode": {
    "name": "ipython",
    "version": 3
   },
   "file_extension": ".py",
   "mimetype": "text/x-python",
   "name": "python",
   "nbconvert_exporter": "python",
   "pygments_lexer": "ipython3",
   "version": "3.10.12"
  },
  "orig_nbformat": 4
 },
 "nbformat": 4,
 "nbformat_minor": 2
}
