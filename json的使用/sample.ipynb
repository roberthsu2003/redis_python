{
 "cells": [
  {
   "cell_type": "code",
   "execution_count": 1,
   "metadata": {},
   "outputs": [
    {
     "data": {
      "text/plain": [
       "True"
      ]
     },
     "execution_count": 1,
     "metadata": {},
     "output_type": "execute_result"
    }
   ],
   "source": [
    "#連結本機redis\n",
    "import redis\n",
    "import os\n",
    "\n",
    "user_connection = redis.Redis(host='localhost', port=6379, password=os.environ['REDIS_HOST_PASSWORD'], decode_responses=True)\n",
    "\n",
    "user_connection.ping()"
   ]
  },
  {
   "cell_type": "code",
   "execution_count": 3,
   "metadata": {},
   "outputs": [
    {
     "name": "stdout",
     "output_type": "stream",
     "text": [
      "{'name': 'Jane', 'Age': 33, 'Location': 'Chawton'}\n"
     ]
    }
   ],
   "source": [
    "from redis.commands.json.path import Path\n",
    "\n",
    "jane = {\n",
    "     'name': \"Jane\",\n",
    "     'Age': 33,\n",
    "     'Location': \"Chawton\"\n",
    "}\n",
    "\n",
    "user_connection.json().set('person:1', '$', jane)\n",
    "result = user_connection.json().get('person:1')\n",
    "\n",
    "print(result)\n"
   ]
  },
  {
   "cell_type": "code",
   "execution_count": 7,
   "metadata": {},
   "outputs": [
    {
     "name": "stdout",
     "output_type": "stream",
     "text": [
      "['Jane']\n"
     ]
    }
   ],
   "source": [
    "name = user_connection.json().get('person:1', '$.name')\n",
    "print(name)"
   ]
  },
  {
   "cell_type": "code",
   "execution_count": 6,
   "metadata": {},
   "outputs": [
    {
     "name": "stdout",
     "output_type": "stream",
     "text": [
      "['Jane']\n"
     ]
    }
   ],
   "source": [
    "name = user_connection.json().get('person:1', Path('$.name'))\n",
    "print(name)"
   ]
  },
  {
   "cell_type": "code",
   "execution_count": 7,
   "metadata": {},
   "outputs": [],
   "source": [
    "inventory = {\n",
    "   \"inventory\": {\n",
    "      \"headphones\": [\n",
    "         {\n",
    "            \"id\": 12345,\n",
    "            \"name\": \"Noise-cancelling Bluetooth headphones\",\n",
    "            \"description\": \"Wireless Bluetooth headphones with noise-cancelling technology\",\n",
    "            \"wireless\": True,\n",
    "            \"connection\": \"Bluetooth\",\n",
    "            \"price\": 99.98,\n",
    "            \"stock\": 25,\n",
    "            \"free-shipping\": False,\n",
    "            \"colors\": [\"black\", \"silver\"]\n",
    "         },\n",
    "         {\n",
    "            \"id\": 12346,\n",
    "            \"name\": \"Wireless earbuds\",\n",
    "            \"description\": \"Wireless Bluetooth in-ear headphones\",\n",
    "            \"wireless\": True,\n",
    "            \"connection\": \"Bluetooth\",\n",
    "            \"price\": 64.99,\n",
    "            \"stock\": 17,\n",
    "            \"free-shipping\": False,\n",
    "            \"colors\": [\"black\", \"white\"]\n",
    "         },\n",
    "         {\n",
    "            \"id\": 12347,\n",
    "            \"name\": \"Mic headset\",\n",
    "            \"description\": \"Headset with built-in microphone\",\n",
    "            \"wireless\": False,\n",
    "            \"connection\": \"USB\",\n",
    "            \"price\": 35.01,\n",
    "            \"stock\": 28,\n",
    "            \"free-shipping\": False\n",
    "         }\n",
    "      ],\n",
    "      \"keyboards\": [\n",
    "         {\n",
    "            \"id\": 22345,\n",
    "            \"name\": \"Wireless keyboard\",\n",
    "            \"description\": \"Wireless Bluetooth keyboard\",\n",
    "            \"wireless\": True,\n",
    "            \"connection\": \"Bluetooth\",\n",
    "            \"price\": 44.99,\n",
    "            \"stock\": 23,\n",
    "            \"free-shipping\": False,\n",
    "            \"colors\": [\"black\", \"silver\"]\n",
    "         },\n",
    "         {\n",
    "            \"id\": 22346,\n",
    "            \"name\": \"USB-C keyboard\",\n",
    "            \"description\": \"Wired USB-C keyboard\",\n",
    "            \"wireless\": False,\n",
    "            \"connection\": \"USB-C\",\n",
    "            \"price\": 29.99,\n",
    "            \"stock\": 30,\n",
    "            \"free-shipping\": False\n",
    "         }\n",
    "      ]\n",
    "   }\n",
    "}\n"
   ]
  },
  {
   "cell_type": "code",
   "execution_count": 8,
   "metadata": {},
   "outputs": [
    {
     "data": {
      "text/plain": [
       "True"
      ]
     },
     "execution_count": 8,
     "metadata": {},
     "output_type": "execute_result"
    }
   ],
   "source": [
    "#設定所有資料\n",
    "user_connection.json().set('inventory:1',\"$\",inventory)"
   ]
  },
  {
   "cell_type": "code",
   "execution_count": 9,
   "metadata": {},
   "outputs": [
    {
     "data": {
      "text/plain": [
       "[[{'id': 12345,\n",
       "   'name': 'Noise-cancelling Bluetooth headphones',\n",
       "   'description': 'Wireless Bluetooth headphones with noise-cancelling technology',\n",
       "   'wireless': True,\n",
       "   'connection': 'Bluetooth',\n",
       "   'price': 99.98,\n",
       "   'stock': 25,\n",
       "   'free-shipping': False,\n",
       "   'colors': ['black', 'silver']},\n",
       "  {'id': 12346,\n",
       "   'name': 'Wireless earbuds',\n",
       "   'description': 'Wireless Bluetooth in-ear headphones',\n",
       "   'wireless': True,\n",
       "   'connection': 'Bluetooth',\n",
       "   'price': 64.99,\n",
       "   'stock': 17,\n",
       "   'free-shipping': False,\n",
       "   'colors': ['black', 'white']},\n",
       "  {'id': 12347,\n",
       "   'name': 'Mic headset',\n",
       "   'description': 'Headset with built-in microphone',\n",
       "   'wireless': False,\n",
       "   'connection': 'USB',\n",
       "   'price': 35.01,\n",
       "   'stock': 28,\n",
       "   'free-shipping': False}],\n",
       " [{'id': 22345,\n",
       "   'name': 'Wireless keyboard',\n",
       "   'description': 'Wireless Bluetooth keyboard',\n",
       "   'wireless': True,\n",
       "   'connection': 'Bluetooth',\n",
       "   'price': 44.99,\n",
       "   'stock': 23,\n",
       "   'free-shipping': False,\n",
       "   'colors': ['black', 'silver']},\n",
       "  {'id': 22346,\n",
       "   'name': 'USB-C keyboard',\n",
       "   'description': 'Wired USB-C keyboard',\n",
       "   'wireless': False,\n",
       "   'connection': 'USB-C',\n",
       "   'price': 29.99,\n",
       "   'stock': 30,\n",
       "   'free-shipping': False}]]"
      ]
     },
     "execution_count": 9,
     "metadata": {},
     "output_type": "execute_result"
    }
   ],
   "source": [
    "user_connection.json().get('inventory:1','$.inventory.*')"
   ]
  },
  {
   "cell_type": "code",
   "execution_count": 10,
   "metadata": {},
   "outputs": [
    {
     "data": {
      "text/plain": [
       "[{'id': 12345,\n",
       "  'name': 'Noise-cancelling Bluetooth headphones',\n",
       "  'description': 'Wireless Bluetooth headphones with noise-cancelling technology',\n",
       "  'wireless': True,\n",
       "  'connection': 'Bluetooth',\n",
       "  'price': 99.98,\n",
       "  'stock': 25,\n",
       "  'free-shipping': False,\n",
       "  'colors': ['black', 'silver']},\n",
       " {'id': 12346,\n",
       "  'name': 'Wireless earbuds',\n",
       "  'description': 'Wireless Bluetooth in-ear headphones',\n",
       "  'wireless': True,\n",
       "  'connection': 'Bluetooth',\n",
       "  'price': 64.99,\n",
       "  'stock': 17,\n",
       "  'free-shipping': False,\n",
       "  'colors': ['black', 'white']},\n",
       " {'id': 12347,\n",
       "  'name': 'Mic headset',\n",
       "  'description': 'Headset with built-in microphone',\n",
       "  'wireless': False,\n",
       "  'connection': 'USB',\n",
       "  'price': 35.01,\n",
       "  'stock': 28,\n",
       "  'free-shipping': False}]"
      ]
     },
     "execution_count": 10,
     "metadata": {},
     "output_type": "execute_result"
    }
   ],
   "source": [
    "user_connection.json().get('inventory:1','$.inventory.headphones.*')"
   ]
  },
  {
   "cell_type": "code",
   "execution_count": 11,
   "metadata": {},
   "outputs": [
    {
     "data": {
      "text/plain": [
       "['Noise-cancelling Bluetooth headphones', 'Wireless earbuds', 'Mic headset']"
      ]
     },
     "execution_count": 11,
     "metadata": {},
     "output_type": "execute_result"
    }
   ],
   "source": [
    "user_connection.json().get('inventory:1','$.inventory.headphones[*].name')"
   ]
  },
  {
   "cell_type": "code",
   "execution_count": 13,
   "metadata": {},
   "outputs": [
    {
     "data": {
      "text/plain": [
       "['Noise-cancelling Bluetooth headphones', 'Wireless earbuds', 'Mic headset']"
      ]
     },
     "execution_count": 13,
     "metadata": {},
     "output_type": "execute_result"
    }
   ],
   "source": [
    "user_connection.json().get('inventory:1','$.inventory[\"headphones\"][*].name')"
   ]
  },
  {
   "cell_type": "code",
   "execution_count": 14,
   "metadata": {},
   "outputs": [
    {
     "data": {
      "text/plain": [
       "['Noise-cancelling Bluetooth headphones', 'Wireless earbuds', 'Mic headset']"
      ]
     },
     "execution_count": 14,
     "metadata": {},
     "output_type": "execute_result"
    }
   ],
   "source": [
    "user_connection.json().get('inventory:1','$..headphones[*].name')"
   ]
  },
  {
   "cell_type": "code",
   "execution_count": 15,
   "metadata": {},
   "outputs": [
    {
     "data": {
      "text/plain": [
       "['Noise-cancelling Bluetooth headphones',\n",
       " 'Wireless earbuds',\n",
       " 'Mic headset',\n",
       " 'Wireless keyboard',\n",
       " 'USB-C keyboard']"
      ]
     },
     "execution_count": 15,
     "metadata": {},
     "output_type": "execute_result"
    }
   ],
   "source": [
    "user_connection.json().get('inventory:1','$..name')"
   ]
  },
  {
   "cell_type": "code",
   "execution_count": 16,
   "metadata": {},
   "outputs": [
    {
     "data": {
      "text/plain": [
       "['Noise-cancelling Bluetooth headphones', 'Wireless earbuds']"
      ]
     },
     "execution_count": 16,
     "metadata": {},
     "output_type": "execute_result"
    }
   ],
   "source": [
    "user_connection.json().get('inventory:1','$..headphones[0:2].name')"
   ]
  },
  {
   "cell_type": "code",
   "execution_count": 17,
   "metadata": {},
   "outputs": [
    {
     "data": {
      "text/plain": [
       "[{'id': 12346,\n",
       "  'name': 'Wireless earbuds',\n",
       "  'description': 'Wireless Bluetooth in-ear headphones',\n",
       "  'wireless': True,\n",
       "  'connection': 'Bluetooth',\n",
       "  'price': 64.99,\n",
       "  'stock': 17,\n",
       "  'free-shipping': False,\n",
       "  'colors': ['black', 'white']}]"
      ]
     },
     "execution_count": 17,
     "metadata": {},
     "output_type": "execute_result"
    }
   ],
   "source": [
    "user_connection.json().get('inventory:1','$..headphones[?(@.price<70 && @.wireless==true)]')"
   ]
  },
  {
   "cell_type": "code",
   "execution_count": 19,
   "metadata": {},
   "outputs": [
    {
     "data": {
      "text/plain": [
       "['Noise-cancelling Bluetooth headphones',\n",
       " 'Wireless earbuds',\n",
       " 'Wireless keyboard']"
      ]
     },
     "execution_count": 19,
     "metadata": {},
     "output_type": "execute_result"
    }
   ],
   "source": [
    "user_connection.json().get('inventory:1','$.inventory.*[?(@.connection==\"Bluetooth\")].name')"
   ]
  },
  {
   "cell_type": "code",
   "execution_count": 21,
   "metadata": {},
   "outputs": [
    {
     "data": {
      "text/plain": [
       "[99.98]"
      ]
     },
     "execution_count": 21,
     "metadata": {},
     "output_type": "execute_result"
    }
   ],
   "source": [
    "user_connection.json().get('inventory:1','$..headphones[0].price')"
   ]
  },
  {
   "cell_type": "code",
   "execution_count": 23,
   "metadata": {},
   "outputs": [
    {
     "data": {
      "text/plain": [
       "True"
      ]
     },
     "execution_count": 23,
     "metadata": {},
     "output_type": "execute_result"
    }
   ],
   "source": [
    "#update\n",
    "user_connection.json().set('inventory:1','$..headphones[0].price',78.99)"
   ]
  },
  {
   "cell_type": "code",
   "execution_count": 24,
   "metadata": {},
   "outputs": [
    {
     "data": {
      "text/plain": [
       "[78.99]"
      ]
     },
     "execution_count": 24,
     "metadata": {},
     "output_type": "execute_result"
    }
   ],
   "source": [
    "user_connection.json().get('inventory:1','$..headphones[0].price')"
   ]
  }
 ],
 "metadata": {
  "kernelspec": {
   "display_name": "Python 3",
   "language": "python",
   "name": "python3"
  },
  "language_info": {
   "codemirror_mode": {
    "name": "ipython",
    "version": 3
   },
   "file_extension": ".py",
   "mimetype": "text/x-python",
   "name": "python",
   "nbconvert_exporter": "python",
   "pygments_lexer": "ipython3",
   "version": "3.10.12"
  },
  "orig_nbformat": 4
 },
 "nbformat": 4,
 "nbformat_minor": 2
}
