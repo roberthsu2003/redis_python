{
 "cells": [
  {
   "cell_type": "code",
   "execution_count": 1,
   "metadata": {},
   "outputs": [
    {
     "data": {
      "text/plain": [
       "True"
      ]
     },
     "execution_count": 1,
     "metadata": {},
     "output_type": "execute_result"
    }
   ],
   "source": [
    "import redis\n",
    "import os\n",
    "\n",
    "user_connection = redis.Redis(host='localhost', port=6379, password=os.environ['REDIS_HOST_PASSWORD'], decode_responses=True)\n",
    "\n",
    "user_connection.ping()"
   ]
  },
  {
   "cell_type": "code",
   "execution_count": 2,
   "metadata": {},
   "outputs": [
    {
     "data": {
      "text/plain": [
       "True"
      ]
     },
     "execution_count": 2,
     "metadata": {},
     "output_type": "execute_result"
    }
   ],
   "source": [
    "#選擇資料庫\n",
    "user_connection.select(1)\n"
   ]
  },
  {
   "cell_type": "code",
   "execution_count": 3,
   "metadata": {},
   "outputs": [
    {
     "data": {
      "text/plain": [
       "1"
      ]
     },
     "execution_count": 3,
     "metadata": {},
     "output_type": "execute_result"
    }
   ],
   "source": [
    "#加入hash\n",
    "user_connection.hset('myhash','field1',\"foo\")"
   ]
  },
  {
   "cell_type": "code",
   "execution_count": 11,
   "metadata": {},
   "outputs": [
    {
     "data": {
      "text/plain": [
       "1"
      ]
     },
     "execution_count": 11,
     "metadata": {},
     "output_type": "execute_result"
    }
   ],
   "source": [
    "#加入hash欄位field2\n",
    "user_connection.hset('myhash','field2',\"world\")"
   ]
  },
  {
   "cell_type": "code",
   "execution_count": 5,
   "metadata": {},
   "outputs": [
    {
     "data": {
      "text/plain": [
       "'foo'"
      ]
     },
     "execution_count": 5,
     "metadata": {},
     "output_type": "execute_result"
    }
   ],
   "source": [
    "#取出hash_fiel_value\n",
    "hash_value = user_connection.hget('myhash','field1')\n",
    "hash_value"
   ]
  },
  {
   "cell_type": "code",
   "execution_count": 7,
   "metadata": {},
   "outputs": [
    {
     "data": {
      "text/plain": [
       "['myhash']"
      ]
     },
     "execution_count": 7,
     "metadata": {},
     "output_type": "execute_result"
    }
   ],
   "source": [
    "#取出keys\n",
    "user_connection.keys(\"*\")"
   ]
  },
  {
   "cell_type": "code",
   "execution_count": 10,
   "metadata": {},
   "outputs": [
    {
     "data": {
      "text/plain": [
       "['myhash']"
      ]
     },
     "execution_count": 10,
     "metadata": {},
     "output_type": "execute_result"
    }
   ],
   "source": [
    "user_connection.keys(\"myhash*\")"
   ]
  },
  {
   "cell_type": "code",
   "execution_count": 12,
   "metadata": {},
   "outputs": [
    {
     "data": {
      "text/plain": [
       "['field1', 'field2']"
      ]
     },
     "execution_count": 12,
     "metadata": {},
     "output_type": "execute_result"
    }
   ],
   "source": [
    "#取出所有hash的key內的欄位\n",
    "user_connection.hkeys(\"myhash\")"
   ]
  },
  {
   "cell_type": "code",
   "execution_count": 13,
   "metadata": {},
   "outputs": [
    {
     "data": {
      "text/plain": [
       "{'field1': 'foo', 'field2': 'world'}"
      ]
     },
     "execution_count": 13,
     "metadata": {},
     "output_type": "execute_result"
    }
   ],
   "source": [
    "#取出所有hash資料\n",
    "user_connection.hgetall(\"myhash\")"
   ]
  },
  {
   "cell_type": "code",
   "execution_count": 14,
   "metadata": {},
   "outputs": [
    {
     "name": "stdout",
     "output_type": "stream",
     "text": [
      "沒有field3的欄位: None\n"
     ]
    }
   ],
   "source": [
    "#取出hash沒有field的結果\n",
    "# Get none-value\n",
    "hashVal = user_connection.hget(\"myhash\",\"field3\")\n",
    "print(\"沒有field3的欄位:\",hashVal)"
   ]
  },
  {
   "cell_type": "code",
   "execution_count": 15,
   "metadata": {},
   "outputs": [
    {
     "name": "stdout",
     "output_type": "stream",
     "text": [
      "field1 存在\n",
      "field2 存在\n",
      "field3 不存在\n"
     ]
    }
   ],
   "source": [
    "# hexists:檢查keyname內的field是否存在\n",
    "keyList= ['field1','field2','field3']\n",
    "for keyname in keyList:\n",
    "    hexists = user_connection.hexists('myhash',keyname)\n",
    "    if hexists:\n",
    "        print(keyname, \"存在\")\n",
    "    else:\n",
    "        print(keyname, \"不存在\")"
   ]
  },
  {
   "cell_type": "code",
   "execution_count": 17,
   "metadata": {},
   "outputs": [
    {
     "name": "stdout",
     "output_type": "stream",
     "text": [
      "myhash,field3: 30\n"
     ]
    }
   ],
   "source": [
    "# hincrby: 加總hash內欄位的值\n",
    "# 預設值是 1,\n",
    "user_connection.hset('myhash','field3',20)\n",
    "user_connection.hincrby('myhash','field3',10)\n",
    "print(\"myhash,field3:\",user_connection.hget('myhash','field3'))"
   ]
  },
  {
   "cell_type": "code",
   "execution_count": 18,
   "metadata": {},
   "outputs": [
    {
     "name": "stdout",
     "output_type": "stream",
     "text": [
      "keyname myhash內所有的欄位 ['field1', 'field2', 'field3']\n"
     ]
    }
   ],
   "source": [
    "#hkeys: 取出hash內所有field的名稱\n",
    "kL = user_connection.hkeys('myhash')\n",
    "print(\"keyname myhash內所有的欄位\",kL)"
   ]
  },
  {
   "cell_type": "code",
   "execution_count": 19,
   "metadata": {},
   "outputs": [
    {
     "name": "stdout",
     "output_type": "stream",
     "text": [
      "All hash length: 3\n"
     ]
    }
   ],
   "source": [
    "#hlen: Return the number of elements in hash ``name``\n",
    "lenHash =user_connection.hlen('myhash')\n",
    "print(\"All hash length:\",lenHash)"
   ]
  },
  {
   "cell_type": "code",
   "execution_count": 21,
   "metadata": {},
   "outputs": [
    {
     "name": "stdout",
     "output_type": "stream",
     "text": [
      "Get all redis-hash value list: ['foo', 'world', '30', None]\n"
     ]
    }
   ],
   "source": [
    "#hmget: Returns a list of values ordered identically to ``keys``\n",
    "#hmget(self, name, keys), keys should be python list data structure\n",
    "val =user_connection.hmget('myhash',['field1','field2','field3','fieldx'])\n",
    "print(\"Get all redis-hash value list:\",val)"
   ]
  },
  {
   "cell_type": "code",
   "execution_count": 23,
   "metadata": {},
   "outputs": [
    {
     "name": "stdout",
     "output_type": "stream",
     "text": [
      "Get hset value: ['foo', 'bar']\n"
     ]
    }
   ],
   "source": [
    "#hmset:  Sets each key in the ``mapping`` dict to its corresponding value in the hash ``name``\n",
    "#hset:使用mapping\n",
    "hmDict={'field':'foo','field1':'bar'}\n",
    "hmKeys=hmDict.keys()\n",
    "user_connection.hset('hash',mapping=hmDict)\n",
    "val = user_connection.hmget('hash',hmKeys)\n",
    "print(\"Get hset value:\",val)"
   ]
  },
  {
   "cell_type": "code",
   "execution_count": 24,
   "metadata": {},
   "outputs": [
    {
     "name": "stdout",
     "output_type": "stream",
     "text": [
      "Get delete result: None\n"
     ]
    }
   ],
   "source": [
    "#hdel: Delete ``key`` from hash ``name``\n",
    "user_connection.hdel('hash','field')\n",
    "print(\"Get delete result:\",user_connection.hget('hash','field'))"
   ]
  },
  {
   "cell_type": "code",
   "execution_count": 25,
   "metadata": {},
   "outputs": [
    {
     "name": "stdout",
     "output_type": "stream",
     "text": [
      "Get redis-hash values with HVALS ['foo', 'world', '30']\n"
     ]
    }
   ],
   "source": [
    "#hvals:  Return the list of values within hash ``name``\n",
    "val = user_connection.hvals('myhash')\n",
    "print(\"Get redis-hash values with HVALS\",val)"
   ]
  },
  {
   "cell_type": "code",
   "execution_count": 26,
   "metadata": {},
   "outputs": [
    {
     "name": "stdout",
     "output_type": "stream",
     "text": [
      "Check hsetnx execute result: 1  Value: 2\n"
     ]
    }
   ],
   "source": [
    "#hsetnx: Set ``key`` to ``value`` within hash ``name`` if ``key`` does not exist.\n",
    "# Returns 1 if HSETNX created a field, otherwise 0.\n",
    "\n",
    "r=user_connection.hsetnx('myhash','field',2)\n",
    "print(\"Check hsetnx execute result:\",r,\" Value:\",user_connection.hget('myhash','field'))"
   ]
  },
  {
   "cell_type": "code",
   "execution_count": 28,
   "metadata": {},
   "outputs": [
    {
     "name": "stdout",
     "output_type": "stream",
     "text": [
      "Check hsetnx execute result: 0  Value: 2\n"
     ]
    }
   ],
   "source": [
    "#hsetnx: Set ``key`` to ``value`` within hash ``name`` if ``key`` does not exist.\n",
    "# Returns 1 if HSETNX created a field, otherwise 0.\n",
    "\n",
    "r=user_connection.hsetnx('myhash','field',20)\n",
    "print(\"Check hsetnx execute result:\",r,\" Value:\",user_connection.hget('myhash','field'))"
   ]
  },
  {
   "cell_type": "code",
   "execution_count": 29,
   "metadata": {},
   "outputs": [
    {
     "data": {
      "text/plain": [
       "True"
      ]
     },
     "execution_count": 29,
     "metadata": {},
     "output_type": "execute_result"
    }
   ],
   "source": [
    "user_connection.flushdb()"
   ]
  }
 ],
 "metadata": {
  "kernelspec": {
   "display_name": "Python 3",
   "language": "python",
   "name": "python3"
  },
  "language_info": {
   "codemirror_mode": {
    "name": "ipython",
    "version": 3
   },
   "file_extension": ".py",
   "mimetype": "text/x-python",
   "name": "python",
   "nbconvert_exporter": "python",
   "pygments_lexer": "ipython3",
   "version": "3.10.12"
  },
  "orig_nbformat": 4
 },
 "nbformat": 4,
 "nbformat_minor": 2
}
