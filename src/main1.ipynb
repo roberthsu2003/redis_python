{
 "cells": [
  {
   "cell_type": "code",
   "execution_count": 1,
   "metadata": {},
   "outputs": [
    {
     "data": {
      "text/plain": [
       "True"
      ]
     },
     "execution_count": 1,
     "metadata": {},
     "output_type": "execute_result"
    }
   ],
   "source": [
    "import redis\n",
    "import os\n",
    "\n",
    "user_connection = redis.Redis(host='localhost', port=6379, password=os.environ['REDIS_HOST_PASSWORD'], decode_responses=True)\n",
    "\n",
    "user_connection.ping()\n"
   ]
  },
  {
   "cell_type": "code",
   "execution_count": 3,
   "metadata": {},
   "outputs": [
    {
     "data": {
      "text/plain": [
       "'foo'"
      ]
     },
     "execution_count": 3,
     "metadata": {},
     "output_type": "execute_result"
    }
   ],
   "source": [
    "user_connection.hset('myhash','field1',\"foo\")\n",
    "hash_value = user_connection.hget('myhash','field1')\n",
    "hash_value"
   ]
  },
  {
   "cell_type": "code",
   "execution_count": 5,
   "metadata": {},
   "outputs": [
    {
     "data": {
      "text/plain": [
       "['myhash']"
      ]
     },
     "execution_count": 5,
     "metadata": {},
     "output_type": "execute_result"
    }
   ],
   "source": [
    "### Redis hash command part Start ###\n",
    "# hset: Set key to value with hash name,hset(self, name, key, value)\n",
    "# hget: Return the value of ``key`` within the hash ``name``, hget(self, name, key)\n",
    "user_connection.keys(\"*\")"
   ]
  },
  {
   "cell_type": "code",
   "execution_count": 6,
   "metadata": {},
   "outputs": [
    {
     "name": "stdout",
     "output_type": "stream",
     "text": [
      "None hash value: None\n"
     ]
    }
   ],
   "source": [
    "# Get none-value\n",
    "hashVal = user_connection.hget('myhash','field2')\n",
    "print(\"None hash value:\",hashVal)"
   ]
  },
  {
   "cell_type": "code",
   "execution_count": 7,
   "metadata": {},
   "outputs": [
    {
     "name": "stdout",
     "output_type": "stream",
     "text": [
      "Exist in redis-hash key: field1\n",
      "Not exist in redis-hash key: field2\n"
     ]
    }
   ],
   "source": [
    "# hexists: Returns a boolean indicating if ``key`` exists within hash ``name``\n",
    "keyList= ['field1','field2']\n",
    "for key in keyList:\n",
    "    hexists = user_connection.hexists('myhash',key)\n",
    "    if hexists :\n",
    "        print(\"Exist in redis-hash key:\",key)\n",
    "    else:\n",
    "        print(\"Not exist in redis-hash key:\",key)"
   ]
  },
  {
   "cell_type": "code",
   "execution_count": 8,
   "metadata": {},
   "outputs": [
    {
     "name": "stdout",
     "output_type": "stream",
     "text": [
      "Get python-dict from redis-hash {'field1': 'foo', 'field2': 'bar'}\n"
     ]
    }
   ],
   "source": [
    "# hgetall: Return a Python dict of the hash's name/value pairs\n",
    "user_connection.hset('myhash','field2',\"bar\")\n",
    "valDict = user_connection.hgetall('myhash')\n",
    "print(\"Get python-dict from redis-hash\",valDict)"
   ]
  },
  {
   "cell_type": "code",
   "execution_count": 10,
   "metadata": {},
   "outputs": [
    {
     "name": "stdout",
     "output_type": "stream",
     "text": [
      "Get incrby value(Default): 21\n"
     ]
    }
   ],
   "source": [
    "# hincrby: Increment the value of ``key`` in hash ``name`` by ``amount``\n",
    "# default increment is 1,\n",
    "\n",
    "user_connection.hset('myhash','field',20)\n",
    "user_connection.hincrby('myhash','field')\n",
    "print(\"Get incrby value(Default):\",user_connection.hget('myhash','field'))"
   ]
  },
  {
   "cell_type": "code",
   "execution_count": 11,
   "metadata": {},
   "outputs": [
    {
     "name": "stdout",
     "output_type": "stream",
     "text": [
      "Get incrby value(step: 2): 23\n"
     ]
    }
   ],
   "source": [
    "user_connection.hincrby('myhash','field',2)\n",
    "print(\"Get incrby value(step: 2):\",user_connection.hget('myhash','field'))"
   ]
  },
  {
   "cell_type": "code",
   "execution_count": 12,
   "metadata": {},
   "outputs": [
    {
     "name": "stdout",
     "output_type": "stream",
     "text": [
      "Get incrby value(step: -3): 20\n"
     ]
    }
   ],
   "source": [
    "user_connection.hincrby('myhash','field',-3)\n",
    "print(\"Get incrby value(step: -3):\",user_connection.hget('myhash','field'))"
   ]
  },
  {
   "cell_type": "code",
   "execution_count": 13,
   "metadata": {},
   "outputs": [
    {
     "name": "stdout",
     "output_type": "stream",
     "text": [
      "Get redis-hash key list ['field1', 'field2', 'field']\n"
     ]
    }
   ],
   "source": [
    "#hkeys: Return the list of keys within hash ``name\n",
    "kL = user_connection.hkeys('myhash')\n",
    "print(\"Get redis-hash key list\",kL)"
   ]
  },
  {
   "cell_type": "code",
   "execution_count": 14,
   "metadata": {},
   "outputs": [
    {
     "name": "stdout",
     "output_type": "stream",
     "text": [
      "All hash length: 3\n"
     ]
    }
   ],
   "source": [
    "#hlen: Return the number of elements in hash ``name``\n",
    "lenHash =user_connection.hlen('myhash')\n",
    "print(\"All hash length:\",lenHash)"
   ]
  }
 ],
 "metadata": {
  "kernelspec": {
   "display_name": "Python 3",
   "language": "python",
   "name": "python3"
  },
  "language_info": {
   "codemirror_mode": {
    "name": "ipython",
    "version": 3
   },
   "file_extension": ".py",
   "mimetype": "text/x-python",
   "name": "python",
   "nbconvert_exporter": "python",
   "pygments_lexer": "ipython3",
   "version": "3.10.12"
  },
  "orig_nbformat": 4
 },
 "nbformat": 4,
 "nbformat_minor": 2
}
