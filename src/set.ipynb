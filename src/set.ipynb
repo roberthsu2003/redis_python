{
 "cells": [
  {
   "cell_type": "code",
   "execution_count": 1,
   "metadata": {},
   "outputs": [
    {
     "data": {
      "text/plain": [
       "True"
      ]
     },
     "execution_count": 1,
     "metadata": {},
     "output_type": "execute_result"
    }
   ],
   "source": [
    "import redis\n",
    "import os\n",
    "\n",
    "user_connection = redis.Redis(host='localhost', port=6379, password=os.environ['REDIS_HOST_PASSWORD'], decode_responses=True)\n",
    "\n",
    "user_connection.ping()\n"
   ]
  },
  {
   "cell_type": "markdown",
   "metadata": {},
   "source": [
    "### [set 官方網站操作](https://redis.io/docs/data-types/sets/)\n"
   ]
  },
  {
   "cell_type": "code",
   "execution_count": 2,
   "metadata": {},
   "outputs": [
    {
     "name": "stdout",
     "output_type": "stream",
     "text": [
      "Cardinality of the Redis set:\n",
      "7\n"
     ]
    }
   ],
   "source": [
    "#The set supported by Redis is a set of strings\n",
    "# The name of the Redis set\n",
    "colorSet = \"Colors\"\n",
    "\n",
    "# add value of set\n",
    "user_connection.sadd(colorSet, \"Red\")\n",
    "user_connection.sadd(colorSet, \"Orange\")\n",
    "user_connection.sadd(colorSet, \"Yellow\")\n",
    "user_connection.sadd(colorSet, \"Green\")\n",
    "user_connection.sadd(colorSet, \"Blue\")\n",
    "user_connection.sadd(colorSet, \"Indigo\")\n",
    "user_connection.sadd(colorSet, \"violet\")\n",
    "\n",
    "#print the cardinality of the Redis set\n",
    "print(\"Cardinality of the Redis set:\")\n",
    "print(user_connection.scard(colorSet))"
   ]
  },
  {
   "cell_type": "code",
   "execution_count": 5,
   "metadata": {},
   "outputs": [
    {
     "name": "stdout",
     "output_type": "stream",
     "text": [
      "{'Blue', 'Yellow', 'Green', 'Red'}\n"
     ]
    }
   ],
   "source": [
    "colors = \"Hues\"\n",
    "user_connection.sadd(colors, \"Red\")\n",
    "user_connection.sadd(colors, \"Green\")\n",
    "user_connection.sadd(colors, \"Blue\")\n",
    "user_connection.sadd(colors, \"Yellow\")\n",
    "\n",
    "# print members\n",
    "print(user_connection.smembers(colors))"
   ]
  },
  {
   "cell_type": "code",
   "execution_count": 8,
   "metadata": {},
   "outputs": [
    {
     "name": "stdout",
     "output_type": "stream",
     "text": [
      "{'Blue', 'Green', 'Red'}\n"
     ]
    }
   ],
   "source": [
    "# remove member from a Redis set\n",
    "user_connection.srem(colors, \"Yellow\")\n",
    "print(user_connection.smembers(colors))"
   ]
  },
  {
   "cell_type": "code",
   "execution_count": 10,
   "metadata": {},
   "outputs": [
    {
     "name": "stdout",
     "output_type": "stream",
     "text": [
      "{'Blue', 'Green', 'Red'}\n",
      "Removing Red...\n",
      "Removing Green...\n",
      "Removing Blue...\n",
      "0\n"
     ]
    }
   ],
   "source": [
    "print(user_connection.smembers(colors))\n",
    "while(user_connection.scard(colors) > 0):\n",
    "    print(\"Removing {}...\".format(user_connection.spop(colors)))\n",
    "\n",
    "print(user_connection.scard(colors))"
   ]
  }
 ],
 "metadata": {
  "kernelspec": {
   "display_name": "Python 3",
   "language": "python",
   "name": "python3"
  },
  "language_info": {
   "codemirror_mode": {
    "name": "ipython",
    "version": 3
   },
   "file_extension": ".py",
   "mimetype": "text/x-python",
   "name": "python",
   "nbconvert_exporter": "python",
   "pygments_lexer": "ipython3",
   "version": "3.10.12"
  },
  "orig_nbformat": 4
 },
 "nbformat": 4,
 "nbformat_minor": 2
}
